{
 "cells": [
  {
   "cell_type": "markdown",
   "metadata": {},
   "source": [
    "* **Maximizar:**\n",
    "\n",
    "$$ \\sum_{i \\in C \\cup L \\subset I}\\sum_{j \\in J} \\mathbb{E}[R_{i,j}^{imp}]*\\mathbb{E}[R_{i,j}^{conv}]*x_{i,j} $$\n",
    "$$ \\sum_{i \\in L \\cup C \\subset I}\\sum_{j \\in J} \\mathbb{E}[R_{i,j}^{imp}]*\\mathbb{E}[R_{i,j}^{leads}]*x_{i,j} $$\n",
    "$$ \\sum_{i \\in I}\\sum_{j \\in J} \\mathbb{E}[R_{i,j}^{imp}]*\\mathbb{E}[R_{i,j}^{clicks}]*x_{i,j} $$\n",
    "\n",
    "* **Minimizar:**\n",
    "\n",
    "$$ \\sum_{i \\in C \\cup L \\subset I}\\sum_{j \\in J} \\mathbb{E}[R_{i,j}^{cpa}]*\\frac{x_{i,j}}{\\Beta} $$\n",
    "$$ \\sum_{i \\in L \\cup C \\subset I}\\sum_{j \\in J} \\mathbb{E}[R_{i,j}^{cpl}]*\\frac{x_{i,j}}{\\Beta} $$\n",
    "\n",
    "**Sujeto a:**\n",
    "\n",
    "$ \\sum_{i \\in I} \\sum_{j \\in J} x_{i,j} = \\Beta $\n",
    "\n",
    "$ \\beta_{j}^{inf} \\leq \\sum_{i \\in I} x_{i,j} \\leq \\beta_{j}^{sup}, \\forall j \\in J $\n",
    "\n",
    "$ \\omega_{i}^{min} \\leq \\sum_{j \\in J} \\frac{x_{i,j}}{\\Beta} \\leq \\omega_{i}^{max}, \\forall i \\in I $\n",
    "\n",
    "$ \\sum_{i \\in I}\\sum_{j \\in J} \\mathbb{E}[R_{i,j}^{imp}]*\\mathbb{E}[R_{i,j}^{clicks}]*x_{i,j} \\geq \\Gamma $\n",
    "\n",
    "$ \\sum_{i \\in C \\cup L \\subset I}\\sum_{j \\in J} \\mathbb{E}[R_{i,j}^{imp}]*\\mathbb{E}[R_{i,j}^{conv}]*x_{i,j} \\geq \\Mu $\n",
    "\n",
    "$ \\sum_{i \\in L \\cup C \\subset I}\\sum_{j \\in J} \\mathbb{E}[R_{i,j}^{imp}]*\\mathbb{E}[R_{i,j}^{leads}]*x_{i,j} \\geq \\Pi $\n",
    "\n",
    "$ \\sum_{i \\in C \\cup L \\subset I}\\sum_{j \\in J} \\mathbb{E}[R_{i,j}^{cpa}]*\\frac{x_{i,j}}{\\Beta} \\leq \\Delta $\n",
    "\n",
    "$ \\sum_{i \\in L \\cup C \\subset I}\\sum_{j \\in J} \\mathbb{E}[R_{i,j}^{cpl}]*\\frac{x_{i,j}}{\\Beta} \\leq \\Omicron $\n",
    "\n",
    "$ \\sum_{j \\in J}\\sum_{k \\in J} \\frac{x_{i,j}*x_{i,k}*\\sigma_{j,k,i}}{\\Beta} \\leq \\sigma_{i}^{2}, \\forall i \\in I $\n",
    "\n",
    "$ \\sum_{j \\in J}\\sum_{k \\in J} \\frac{u_{i,j,k}*\\sigma_{j,k,i}}{\\Beta} \\leq \\sigma_{i}^{2}, \\forall i \\in I $\n",
    "\n",
    "$ u_{i,j,k} \\geq x_{i,j}^{L}x_{i,k} + x_{i,j}x_{i,k}^{L} - x_{i,j}^{L}x_{i,k}^{L}, \\forall (j,k) \\in J, \\forall i \\in I  $\n",
    "\n",
    "$ u_{i,j,k} \\geq x_{i,j}^{U}x_{i,k} + x_{i,j}x_{i,k}^{U} - x_{i,j}^{U}x_{i,k}^{U}, \\forall (j,k) \\in J, \\forall i \\in I  $\n",
    "\n",
    "$ u_{i,j,k} \\leq x_{i,j}^{U}x_{i,k} + x_{i,j}x_{i,k}^{L} - x_{i,j}^{U}x_{i,k}^{L}, \\forall (j,k) \\in J, \\forall i \\in I  $\n",
    "\n",
    "$ u_{i,j,k} \\leq x_{i,j}x_{i,k}^{U} + x_{i,j}^{L}x_{i,k} - x_{i,j}^{L}x_{i,k}^{U}, \\forall (j,k) \\in J, \\forall i \\in I  $\n",
    "\n",
    "$ x_{i,j} \\geq 0, \\forall i \\in I, \\forall j \\in J $\n",
    "\n",
    "$ u_{i,j,k} \\geq 0, \\forall (j,k) \\in J, \\forall i \\in I $\n",
    "\n"
   ]
  }
 ],
 "metadata": {
  "language_info": {
   "name": "python"
  },
  "orig_nbformat": 4
 },
 "nbformat": 4,
 "nbformat_minor": 2
}
