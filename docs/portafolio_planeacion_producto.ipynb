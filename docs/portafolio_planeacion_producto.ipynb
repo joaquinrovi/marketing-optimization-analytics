{
 "cells": [
  {
   "cell_type": "markdown",
   "metadata": {},
   "source": [
    "* **Maximizar:**\n",
    "\n",
    "$$ \\sum_{i \\in I} \\mathbb{E}[R_{i}^{conv}] * y_{i} $$\n",
    "\n",
    "$$ \\sum_{i \\in I} \\mathbb{E}[R_{i}^{leads}] * y_{i} $$\n",
    "\n",
    "* **Minimizar:**\n",
    "\n",
    "$$ \\sum_{i \\in I}\\sum_{p \\in I} y_{i}*y_{p}*\\Sigma_{i,p}^{total} $$\n",
    "$$ \\sum_{i \\in I}\\sum_{p \\in I} z_{i,p}*\\Sigma_{i,p}^{total} $$\n",
    "$$ \\sum_{i \\in I} \\mathbb{E}[R_{i}^{cpa}] * y_{i} $$\n",
    "$$ \\sum_{i \\in I} \\mathbb{E}[R_{i}^{cpl}] * y_{i} $$\n",
    "\n",
    "**Sujeto a:**\n",
    "\n",
    "$ \\sum_{i \\in I} y_{i} = 1 $\n",
    "\n",
    "$ \\omega_{i}^{min} \\leq y_{i} \\leq \\omega_{i}^{max}, \\forall i \\in I $\n",
    "\n",
    "$ \\sum_{i \\in I} \\mathbb{E}[R_{i}^{conv}] * y_{i} \\geq \\Nu_1 $\n",
    "\n",
    "$ \\sum_{i \\in I} \\mathbb{E}[R_{i}^{leads}] * y_{i} \\geq \\Nu_2 $\n",
    "\n",
    "$ \\sum_{i \\in I} \\mathbb{E}[R_{i}^{cpa}] * y_{i} \\leq C_1 $\n",
    "\n",
    "$ \\sum_{i \\in I} \\mathbb{E}[R_{i}^{cpl}] * y_{i} \\leq C_2 $\n",
    "\n",
    "$ \\sum_{i \\in I}\\sum_{p \\in I} y_{i}*y_{p}*\\Sigma_{i,p}^{total} \\leq \\sigma_{total}^{2} $\n",
    "\n",
    "$ \\sum_{i \\in I}\\sum_{p \\in I} z_{i,p}*\\Sigma_{i,p}^{total} \\leq \\sigma_{total}^{2} $\n",
    "\n",
    "$ z_{i,p} \\geq y_{i}^{L}y_{p} + y_{i}y_{p}^{L} - y_{i}^{L}y_{p}^{L}, \\forall(i,p) \\in I $\n",
    "\n",
    "$ z_{i,p} \\geq y_{i}^{U}y_{p} + y_{i}y_{p}^{U} - y_{i}^{U}y_{p}^{U}, \\forall(i,p) \\in I $\n",
    "\n",
    "$ z_{i,p} \\leq y_{i}^{U}y_{p} + y_{i}y_{p}^{L} - y_{i}^{U}y_{p}^{L}, \\forall(i,p) \\in I $\n",
    "\n",
    "$ z_{i,p} \\leq y_{i}y_{p}^{U} + y_{i}^{L}y_{p} - y_{i}^{L}y_{p}^{U}, \\forall(i,p) \\in I $\n",
    "\n",
    "$ 0 \\leq y_{i} \\leq 1, \\forall i \\in I $\n",
    "\n",
    "$ z_{i,p} \\geq 0, \\forall(i,p) \\in I $\n",
    "\n",
    "\n"
   ]
  }
 ],
 "metadata": {
  "language_info": {
   "name": "python"
  },
  "orig_nbformat": 4
 },
 "nbformat": 4,
 "nbformat_minor": 2
}
